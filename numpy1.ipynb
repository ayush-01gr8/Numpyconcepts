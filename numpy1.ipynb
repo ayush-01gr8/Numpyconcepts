{
 "cells": [
  {
   "cell_type": "code",
   "execution_count": 2,
   "id": "7cad6938-feff-4e20-abea-7d5614811c3b",
   "metadata": {},
   "outputs": [],
   "source": [
    "import numpy as np"
   ]
  },
  {
   "cell_type": "code",
   "execution_count": 2,
   "id": "2bdb7291-cbff-4584-9f95-2ae8f5780504",
   "metadata": {},
   "outputs": [],
   "source": [
    "l = [1,2,3,4]"
   ]
  },
  {
   "cell_type": "code",
   "execution_count": 4,
   "id": "6d7b024e-9e62-4aa7-b0f2-303970c349c3",
   "metadata": {},
   "outputs": [],
   "source": [
    "ar=np.array(l)"
   ]
  },
  {
   "cell_type": "code",
   "execution_count": 5,
   "id": "177a47f3-7135-48e5-a212-38eb35e04ea1",
   "metadata": {},
   "outputs": [
    {
     "data": {
      "text/plain": [
       "array([1, 2, 3, 4])"
      ]
     },
     "execution_count": 5,
     "metadata": {},
     "output_type": "execute_result"
    }
   ],
   "source": [
    "ar"
   ]
  },
  {
   "cell_type": "code",
   "execution_count": 6,
   "id": "9a8cafc1-2615-4ce9-943f-696a9b97ff90",
   "metadata": {},
   "outputs": [
    {
     "data": {
      "text/plain": [
       "numpy.ndarray"
      ]
     },
     "execution_count": 6,
     "metadata": {},
     "output_type": "execute_result"
    }
   ],
   "source": [
    "type(ar)"
   ]
  },
  {
   "cell_type": "code",
   "execution_count": 8,
   "id": "da40fba1-1c23-4511-b6d7-5c475ca886b9",
   "metadata": {},
   "outputs": [
    {
     "data": {
      "text/plain": [
       "array([[1, 2],\n",
       "       [3, 4]])"
      ]
     },
     "execution_count": 8,
     "metadata": {},
     "output_type": "execute_result"
    }
   ],
   "source": [
    "np.array([[1,2],[3,4]])"
   ]
  },
  {
   "cell_type": "code",
   "execution_count": 9,
   "id": "cd35bec0-1aa2-4d04-bab7-dd50edacab3e",
   "metadata": {},
   "outputs": [],
   "source": [
    "a=np.array(l)"
   ]
  },
  {
   "cell_type": "code",
   "execution_count": 10,
   "id": "e15b44a0-4ef2-46aa-ba2c-2bebc004960b",
   "metadata": {},
   "outputs": [
    {
     "data": {
      "text/plain": [
       "array([1, 2, 3, 4])"
      ]
     },
     "execution_count": 10,
     "metadata": {},
     "output_type": "execute_result"
    }
   ],
   "source": [
    "a"
   ]
  },
  {
   "cell_type": "code",
   "execution_count": 11,
   "id": "5fa94e8f-8342-4d27-9e89-e3ffdc897886",
   "metadata": {},
   "outputs": [],
   "source": [
    "c=a"
   ]
  },
  {
   "cell_type": "code",
   "execution_count": 12,
   "id": "cc958d2e-3f62-44e9-925a-1eb56f3720ca",
   "metadata": {},
   "outputs": [
    {
     "data": {
      "text/plain": [
       "array([1, 2, 3, 4])"
      ]
     },
     "execution_count": 12,
     "metadata": {},
     "output_type": "execute_result"
    }
   ],
   "source": [
    "c"
   ]
  },
  {
   "cell_type": "code",
   "execution_count": 13,
   "id": "0def8c3a-dd2c-47c9-a99d-968ca9f9e37c",
   "metadata": {},
   "outputs": [],
   "source": [
    "c[0]=100"
   ]
  },
  {
   "cell_type": "code",
   "execution_count": 14,
   "id": "0d91ba6c-17ce-4eac-8d99-e0226d201955",
   "metadata": {},
   "outputs": [
    {
     "data": {
      "text/plain": [
       "array([100,   2,   3,   4])"
      ]
     },
     "execution_count": 14,
     "metadata": {},
     "output_type": "execute_result"
    }
   ],
   "source": [
    "c"
   ]
  },
  {
   "cell_type": "code",
   "execution_count": 15,
   "id": "49aed147-d59d-426d-be61-667c7ef9f2ef",
   "metadata": {},
   "outputs": [
    {
     "data": {
      "text/plain": [
       "array([100,   2,   3,   4])"
      ]
     },
     "execution_count": 15,
     "metadata": {},
     "output_type": "execute_result"
    }
   ],
   "source": [
    "a"
   ]
  },
  {
   "cell_type": "code",
   "execution_count": 17,
   "id": "dcb330af-84dd-4e94-80d2-aaa7c44e0c0f",
   "metadata": {},
   "outputs": [
    {
     "data": {
      "text/plain": [
       "array([[ True, False, False],\n",
       "       [False,  True, False],\n",
       "       [False, False,  True]])"
      ]
     },
     "execution_count": 17,
     "metadata": {},
     "output_type": "execute_result"
    }
   ],
   "source": [
    "np.fromfunction(lambda i , j : i==j , (3,3))"
   ]
  },
  {
   "cell_type": "code",
   "execution_count": 18,
   "id": "2c486e61-1cf5-4c5f-b34a-dace39b7f98b",
   "metadata": {},
   "outputs": [
    {
     "data": {
      "text/plain": [
       "array([[0., 0., 0.],\n",
       "       [0., 1., 2.],\n",
       "       [0., 2., 4.]])"
      ]
     },
     "execution_count": 18,
     "metadata": {},
     "output_type": "execute_result"
    }
   ],
   "source": [
    "np.fromfunction(lambda i , j : i*j , (3,3))"
   ]
  },
  {
   "cell_type": "code",
   "execution_count": 19,
   "id": "01182344-193d-4464-a998-21780b308005",
   "metadata": {},
   "outputs": [],
   "source": [
    "iterable = (i*i for i in range(5))"
   ]
  },
  {
   "cell_type": "code",
   "execution_count": 20,
   "id": "5a99d8da-0613-4bd0-bcf1-0519bbd18a9b",
   "metadata": {},
   "outputs": [
    {
     "data": {
      "text/plain": [
       "array([ 0.,  1.,  4.,  9., 16.])"
      ]
     },
     "execution_count": 20,
     "metadata": {},
     "output_type": "execute_result"
    }
   ],
   "source": [
    "np.fromiter(iterable , float)"
   ]
  },
  {
   "cell_type": "code",
   "execution_count": 22,
   "id": "8d8cd348-5e09-49d4-9a02-260b9d5c593b",
   "metadata": {},
   "outputs": [
    {
     "data": {
      "text/plain": [
       "array([234., 234.])"
      ]
     },
     "execution_count": 22,
     "metadata": {},
     "output_type": "execute_result"
    }
   ],
   "source": [
    "np.fromstring('234 234', sep= \" \")"
   ]
  },
  {
   "cell_type": "code",
   "execution_count": 23,
   "id": "c984e39b-a692-4867-913a-b1967048c392",
   "metadata": {},
   "outputs": [],
   "source": [
    "l = [2,3,4,5,6]"
   ]
  },
  {
   "cell_type": "code",
   "execution_count": 24,
   "id": "8e3942f3-58b7-4f7d-83f9-bf10ce088c0d",
   "metadata": {},
   "outputs": [],
   "source": [
    "ar = np.array(l)"
   ]
  },
  {
   "cell_type": "code",
   "execution_count": 25,
   "id": "ac803cc1-bcef-4751-bd41-dbd4ef3d29ca",
   "metadata": {},
   "outputs": [
    {
     "data": {
      "text/plain": [
       "array([2, 3, 4, 5, 6])"
      ]
     },
     "execution_count": 25,
     "metadata": {},
     "output_type": "execute_result"
    }
   ],
   "source": [
    "ar"
   ]
  },
  {
   "cell_type": "code",
   "execution_count": 26,
   "id": "ed156504-f2b7-499e-9477-5756125a7625",
   "metadata": {},
   "outputs": [
    {
     "data": {
      "text/plain": [
       "1"
      ]
     },
     "execution_count": 26,
     "metadata": {},
     "output_type": "execute_result"
    }
   ],
   "source": [
    "ar.ndim"
   ]
  },
  {
   "cell_type": "code",
   "execution_count": 27,
   "id": "b7b45837-a12d-4a91-a1c2-8c1925c73df1",
   "metadata": {},
   "outputs": [],
   "source": [
    "ar2= np.array([[1,2,3,4], [2,3,4,5]])"
   ]
  },
  {
   "cell_type": "code",
   "execution_count": 28,
   "id": "de06baba-dcda-4a93-930c-fc8084ac21d4",
   "metadata": {},
   "outputs": [
    {
     "data": {
      "text/plain": [
       "array([[1, 2, 3, 4],\n",
       "       [2, 3, 4, 5]])"
      ]
     },
     "execution_count": 28,
     "metadata": {},
     "output_type": "execute_result"
    }
   ],
   "source": [
    "ar2"
   ]
  },
  {
   "cell_type": "code",
   "execution_count": 29,
   "id": "80f6dd7e-41d3-4af3-b43a-1ac998c4c09e",
   "metadata": {},
   "outputs": [
    {
     "data": {
      "text/plain": [
       "2"
      ]
     },
     "execution_count": 29,
     "metadata": {},
     "output_type": "execute_result"
    }
   ],
   "source": [
    "ar2.ndim"
   ]
  },
  {
   "cell_type": "code",
   "execution_count": 30,
   "id": "c85434b9-0b7f-45c9-94a8-21ebb95d1354",
   "metadata": {},
   "outputs": [
    {
     "data": {
      "text/plain": [
       "8"
      ]
     },
     "execution_count": 30,
     "metadata": {},
     "output_type": "execute_result"
    }
   ],
   "source": [
    "ar2.size"
   ]
  },
  {
   "cell_type": "code",
   "execution_count": 31,
   "id": "43384565-8fe3-4b71-b873-5c87c2014397",
   "metadata": {},
   "outputs": [
    {
     "data": {
      "text/plain": [
       "(2, 4)"
      ]
     },
     "execution_count": 31,
     "metadata": {},
     "output_type": "execute_result"
    }
   ],
   "source": [
    "ar2.shape"
   ]
  },
  {
   "cell_type": "code",
   "execution_count": 32,
   "id": "9f1cbdb7-72dd-46ca-909f-e4f9b79eeb50",
   "metadata": {},
   "outputs": [
    {
     "data": {
      "text/plain": [
       "dtype('int64')"
      ]
     },
     "execution_count": 32,
     "metadata": {},
     "output_type": "execute_result"
    }
   ],
   "source": [
    "ar.dtype"
   ]
  },
  {
   "cell_type": "code",
   "execution_count": 36,
   "id": "4cb4cdbc-3e4f-4f0d-bf5f-1139a562abf5",
   "metadata": {},
   "outputs": [],
   "source": [
    "ar22 = np.array([(1.2,45,45), (23,45,66)])"
   ]
  },
  {
   "cell_type": "code",
   "execution_count": 39,
   "id": "dea6c19d-3931-46d3-a368-d62459e0fc5e",
   "metadata": {},
   "outputs": [
    {
     "data": {
      "text/plain": [
       "array([[ 1.2, 45. , 45. ],\n",
       "       [23. , 45. , 66. ]])"
      ]
     },
     "execution_count": 39,
     "metadata": {},
     "output_type": "execute_result"
    }
   ],
   "source": [
    "ar22"
   ]
  },
  {
   "cell_type": "code",
   "execution_count": 40,
   "id": "b6c56c2e-4569-40df-b0dc-1e0fbaef1c3c",
   "metadata": {},
   "outputs": [
    {
     "data": {
      "text/plain": [
       "[0, 1, 2, 3, 4]"
      ]
     },
     "execution_count": 40,
     "metadata": {},
     "output_type": "execute_result"
    }
   ],
   "source": [
    "list(range(5))"
   ]
  },
  {
   "cell_type": "code",
   "execution_count": 42,
   "id": "c8a4928a-a761-4489-9d35-60d02897d743",
   "metadata": {},
   "outputs": [
    {
     "data": {
      "text/plain": [
       "array([2.3, 3.3, 4.3, 5.3])"
      ]
     },
     "execution_count": 42,
     "metadata": {},
     "output_type": "execute_result"
    }
   ],
   "source": [
    "np.arange(2.3,5.6)"
   ]
  },
  {
   "cell_type": "code",
   "execution_count": 43,
   "id": "b0c6c280-3d40-47f3-b359-8c9703519e7a",
   "metadata": {},
   "outputs": [
    {
     "data": {
      "text/plain": [
       "array([1.        , 1.44444444, 1.88888889, 2.33333333, 2.77777778,\n",
       "       3.22222222, 3.66666667, 4.11111111, 4.55555556, 5.        ])"
      ]
     },
     "execution_count": 43,
     "metadata": {},
     "output_type": "execute_result"
    }
   ],
   "source": [
    "np.linspace(1,5,10)"
   ]
  },
  {
   "cell_type": "code",
   "execution_count": 44,
   "id": "40c725e1-4bb0-4dff-bac2-b406c629bec1",
   "metadata": {},
   "outputs": [
    {
     "data": {
      "text/plain": [
       "array([[[0., 0.],\n",
       "        [0., 0.],\n",
       "        [0., 0.],\n",
       "        [0., 0.]],\n",
       "\n",
       "       [[0., 0.],\n",
       "        [0., 0.],\n",
       "        [0., 0.],\n",
       "        [0., 0.]],\n",
       "\n",
       "       [[0., 0.],\n",
       "        [0., 0.],\n",
       "        [0., 0.],\n",
       "        [0., 0.]]])"
      ]
     },
     "execution_count": 44,
     "metadata": {},
     "output_type": "execute_result"
    }
   ],
   "source": [
    "np.zeros((3,4,2))"
   ]
  },
  {
   "cell_type": "code",
   "execution_count": 45,
   "id": "57d8fed3-c173-496c-a481-b51f9b983068",
   "metadata": {},
   "outputs": [
    {
     "data": {
      "text/plain": [
       "array([[1., 0., 0., 0.],\n",
       "       [0., 1., 0., 0.],\n",
       "       [0., 0., 1., 0.],\n",
       "       [0., 0., 0., 1.]])"
      ]
     },
     "execution_count": 45,
     "metadata": {},
     "output_type": "execute_result"
    }
   ],
   "source": [
    "np.eye(4)"
   ]
  },
  {
   "cell_type": "code",
   "execution_count": 46,
   "id": "fcd021a6-4f4a-4c48-ae8b-03d8b56126a0",
   "metadata": {},
   "outputs": [
    {
     "data": {
      "text/plain": [
       "array([ 4.        ,  5.0396842 ,  6.34960421,  8.        , 10.0793684 ,\n",
       "       12.69920842, 16.        , 20.1587368 , 25.39841683, 32.        ])"
      ]
     },
     "execution_count": 46,
     "metadata": {},
     "output_type": "execute_result"
    }
   ],
   "source": [
    "np.logspace(2,5,10 , base=2)"
   ]
  },
  {
   "cell_type": "code",
   "execution_count": 50,
   "id": "0bd5b50c-4d72-46ac-a8f9-f2d20bc5bfef",
   "metadata": {},
   "outputs": [],
   "source": [
    "arr=np.random.randn(3,4) #here data meanis zero n st dev is 1"
   ]
  },
  {
   "cell_type": "code",
   "execution_count": 51,
   "id": "6d97189c-3865-49f1-94d4-717a86d4e985",
   "metadata": {},
   "outputs": [],
   "source": [
    "import pandas as pd"
   ]
  },
  {
   "cell_type": "code",
   "execution_count": 52,
   "id": "d48617ae-af8a-45d7-965c-2024c5120130",
   "metadata": {},
   "outputs": [
    {
     "data": {
      "text/html": [
       "<div>\n",
       "<style scoped>\n",
       "    .dataframe tbody tr th:only-of-type {\n",
       "        vertical-align: middle;\n",
       "    }\n",
       "\n",
       "    .dataframe tbody tr th {\n",
       "        vertical-align: top;\n",
       "    }\n",
       "\n",
       "    .dataframe thead th {\n",
       "        text-align: right;\n",
       "    }\n",
       "</style>\n",
       "<table border=\"1\" class=\"dataframe\">\n",
       "  <thead>\n",
       "    <tr style=\"text-align: right;\">\n",
       "      <th></th>\n",
       "      <th>0</th>\n",
       "      <th>1</th>\n",
       "      <th>2</th>\n",
       "      <th>3</th>\n",
       "    </tr>\n",
       "  </thead>\n",
       "  <tbody>\n",
       "    <tr>\n",
       "      <th>0</th>\n",
       "      <td>1.909464</td>\n",
       "      <td>-1.330470</td>\n",
       "      <td>0.143491</td>\n",
       "      <td>0.508466</td>\n",
       "    </tr>\n",
       "    <tr>\n",
       "      <th>1</th>\n",
       "      <td>2.024320</td>\n",
       "      <td>-0.847773</td>\n",
       "      <td>0.923061</td>\n",
       "      <td>-1.008998</td>\n",
       "    </tr>\n",
       "    <tr>\n",
       "      <th>2</th>\n",
       "      <td>-1.446535</td>\n",
       "      <td>-1.969126</td>\n",
       "      <td>0.771473</td>\n",
       "      <td>0.079378</td>\n",
       "    </tr>\n",
       "  </tbody>\n",
       "</table>\n",
       "</div>"
      ],
      "text/plain": [
       "          0         1         2         3\n",
       "0  1.909464 -1.330470  0.143491  0.508466\n",
       "1  2.024320 -0.847773  0.923061 -1.008998\n",
       "2 -1.446535 -1.969126  0.771473  0.079378"
      ]
     },
     "execution_count": 52,
     "metadata": {},
     "output_type": "execute_result"
    }
   ],
   "source": [
    "pd.DataFrame(arr)"
   ]
  },
  {
   "cell_type": "code",
   "execution_count": 53,
   "id": "2a59b622-ab1e-4903-8ac4-b7a7cf438808",
   "metadata": {},
   "outputs": [
    {
     "data": {
      "text/plain": [
       "array([[0.02387876, 0.7079877 , 0.94240999, 0.30863767],\n",
       "       [0.42817048, 0.19653089, 0.5873161 , 0.20882258],\n",
       "       [0.8849164 , 0.10653419, 0.86712234, 0.7530261 ]])"
      ]
     },
     "execution_count": 53,
     "metadata": {},
     "output_type": "execute_result"
    }
   ],
   "source": [
    "np.random.rand(3,4) #random function "
   ]
  },
  {
   "cell_type": "code",
   "execution_count": 56,
   "id": "c1d2ef77-c664-4701-a3dc-b0046f19cda1",
   "metadata": {},
   "outputs": [
    {
     "data": {
      "text/plain": [
       "array([[  9,  58,  85,  60],\n",
       "       [ 98,  73,  38,  97],\n",
       "       [106, 109,  40,  83]], dtype=int32)"
      ]
     },
     "execution_count": 56,
     "metadata": {},
     "output_type": "execute_result"
    }
   ],
   "source": [
    "np.random.randint(1,110 , (3,4))"
   ]
  },
  {
   "cell_type": "code",
   "execution_count": 58,
   "id": "52f0bc8c-5fa2-42a8-b7b2-4b7faa978fbe",
   "metadata": {},
   "outputs": [],
   "source": [
    "pd.DataFrame(np.random.randint(1,110 , (300,400))).to_csv(\"test.csv\")"
   ]
  },
  {
   "cell_type": "code",
   "execution_count": 60,
   "id": "d26ae970-bb5c-40ee-bab7-fd933abeb61c",
   "metadata": {},
   "outputs": [],
   "source": [
    "arr=np.random.randint(1,100 , (5,5))"
   ]
  },
  {
   "cell_type": "code",
   "execution_count": 61,
   "id": "ecaa59bd-5c3c-43fa-b531-f8ea45656e51",
   "metadata": {},
   "outputs": [
    {
     "data": {
      "text/plain": [
       "array([[42, 64, 74, 51, 41],\n",
       "       [14, 31, 94, 77, 90],\n",
       "       [20, 34, 96, 47, 97],\n",
       "       [97, 32, 10, 90, 73],\n",
       "       [21, 98, 19, 11, 21]], dtype=int32)"
      ]
     },
     "execution_count": 61,
     "metadata": {},
     "output_type": "execute_result"
    }
   ],
   "source": [
    "arr"
   ]
  },
  {
   "cell_type": "code",
   "execution_count": 65,
   "id": "55b5cf05-79b3-4f68-9824-66d8ad391c4e",
   "metadata": {},
   "outputs": [
    {
     "data": {
      "text/plain": [
       "array([64, 74, 51, 94, 77, 90, 96, 97, 97, 90, 73, 98], dtype=int32)"
      ]
     },
     "execution_count": 65,
     "metadata": {},
     "output_type": "execute_result"
    }
   ],
   "source": [
    "arr[arr>50]"
   ]
  },
  {
   "cell_type": "code",
   "execution_count": 66,
   "id": "74962716-4b65-48e0-8acb-93525136223b",
   "metadata": {},
   "outputs": [
    {
     "data": {
      "text/plain": [
       "array([[34, 96],\n",
       "       [32, 10]], dtype=int32)"
      ]
     },
     "execution_count": 66,
     "metadata": {},
     "output_type": "execute_result"
    }
   ],
   "source": [
    "arr[2:4 , [1,2]]"
   ]
  },
  {
   "cell_type": "code",
   "execution_count": 67,
   "id": "7602caf7-f1cc-4609-9092-6cfcee069746",
   "metadata": {},
   "outputs": [],
   "source": [
    "arr[0][0]=432"
   ]
  },
  {
   "cell_type": "code",
   "execution_count": 68,
   "id": "bac9b228-4015-4dc3-9c4a-6d18e5799d9b",
   "metadata": {},
   "outputs": [
    {
     "data": {
      "text/plain": [
       "array([[432,  64,  74,  51,  41],\n",
       "       [ 14,  31,  94,  77,  90],\n",
       "       [ 20,  34,  96,  47,  97],\n",
       "       [ 97,  32,  10,  90,  73],\n",
       "       [ 21,  98,  19,  11,  21]], dtype=int32)"
      ]
     },
     "execution_count": 68,
     "metadata": {},
     "output_type": "execute_result"
    }
   ],
   "source": [
    "arr"
   ]
  },
  {
   "cell_type": "code",
   "execution_count": null,
   "id": "ed1e705e-7840-49ba-9974-036fc7fedbd1",
   "metadata": {},
   "outputs": [],
   "source": [
    "# numpy broadcasting"
   ]
  },
  {
   "cell_type": "code",
   "execution_count": 69,
   "id": "c92f9324-4340-4aeb-a3f0-60876a005e59",
   "metadata": {},
   "outputs": [],
   "source": [
    "arr = np.zeros((4,4))"
   ]
  },
  {
   "cell_type": "code",
   "execution_count": 73,
   "id": "3a5a08ed-6a4d-4b19-bbb7-ca6c951cb8d7",
   "metadata": {},
   "outputs": [
    {
     "data": {
      "text/plain": [
       "array([[0., 0., 0., 0.],\n",
       "       [0., 0., 0., 0.],\n",
       "       [0., 0., 0., 0.],\n",
       "       [0., 0., 0., 0.]])"
      ]
     },
     "execution_count": 73,
     "metadata": {},
     "output_type": "execute_result"
    }
   ],
   "source": [
    "arr"
   ]
  },
  {
   "cell_type": "code",
   "execution_count": 74,
   "id": "8400b7a3-ccb1-4b2d-bf3b-6701da629692",
   "metadata": {},
   "outputs": [],
   "source": [
    "row= np.array([1,2,3,4])"
   ]
  },
  {
   "cell_type": "code",
   "execution_count": 75,
   "id": "d3afcb47-5d97-4a1a-b3ab-80b3acf7d879",
   "metadata": {},
   "outputs": [
    {
     "data": {
      "text/plain": [
       "array([1, 2, 3, 4])"
      ]
     },
     "execution_count": 75,
     "metadata": {},
     "output_type": "execute_result"
    }
   ],
   "source": [
    "row"
   ]
  },
  {
   "cell_type": "raw",
   "id": "95f1cd78-37d5-4ba5-99d2-d1bc6dbb8837",
   "metadata": {},
   "source": [
    "arr + row"
   ]
  },
  {
   "cell_type": "code",
   "execution_count": 76,
   "id": "3d875703-355b-4eed-a6a0-39b2690b2624",
   "metadata": {},
   "outputs": [
    {
     "data": {
      "text/plain": [
       "array([1, 2, 3, 4])"
      ]
     },
     "execution_count": 76,
     "metadata": {},
     "output_type": "execute_result"
    }
   ],
   "source": [
    "col= np.array([1,2,3,4])"
   ]
  },
  {
   "cell_type": "code",
   "execution_count": 3,
   "id": "23c9dda4-0744-4e4c-9ec7-f1c5bba3930c",
   "metadata": {},
   "outputs": [],
   "source": [
    "Arr= np.array([2,3,1,5,8,4,3,9,8])"
   ]
  },
  {
   "cell_type": "code",
   "execution_count": 4,
   "id": "312136a3-8cc5-4354-97e2-024fb838f93b",
   "metadata": {},
   "outputs": [
    {
     "data": {
      "text/plain": [
       "array([1, 2, 3, 3, 4, 5, 8, 8, 9])"
      ]
     },
     "execution_count": 4,
     "metadata": {},
     "output_type": "execute_result"
    }
   ],
   "source": [
    "np.sort(Arr)"
   ]
  },
  {
   "cell_type": "code",
   "execution_count": 5,
   "id": "b769575c-b237-4218-85b4-29cf4b83d861",
   "metadata": {},
   "outputs": [
    {
     "data": {
      "text/plain": [
       "np.int64(9)"
      ]
     },
     "execution_count": 5,
     "metadata": {},
     "output_type": "execute_result"
    }
   ],
   "source": [
    "np.searchsorted(Arr , 34)"
   ]
  },
  {
   "cell_type": "code",
   "execution_count": 6,
   "id": "5b773954-81f1-4071-9130-7f23f03ff2d7",
   "metadata": {},
   "outputs": [],
   "source": [
    "Arr1= np.array([3,4,0,0,0,0,9,6,5,4])"
   ]
  },
  {
   "cell_type": "code",
   "execution_count": 7,
   "id": "81fdf0bd-d43b-4741-8acc-a1f6b0e583bc",
   "metadata": {},
   "outputs": [
    {
     "data": {
      "text/plain": [
       "6"
      ]
     },
     "execution_count": 7,
     "metadata": {},
     "output_type": "execute_result"
    }
   ],
   "source": [
    "np.count_nonzero(Arr1)"
   ]
  },
  {
   "cell_type": "code",
   "execution_count": 8,
   "id": "7254244e-2244-4643-a9cc-cbf3111db419",
   "metadata": {},
   "outputs": [
    {
     "data": {
      "text/plain": [
       "(array([0, 0, 0, 0, 0]), array([3, 4, 5, 7, 8]))"
      ]
     },
     "execution_count": 8,
     "metadata": {},
     "output_type": "execute_result"
    }
   ],
   "source": [
    "np.where([Arr>3])"
   ]
  },
  {
   "cell_type": "code",
   "execution_count": 9,
   "id": "49c693ff-23a9-45a6-ad2f-cb80fe463b2d",
   "metadata": {},
   "outputs": [
    {
     "data": {
      "text/plain": [
       "array([5, 8, 4, 9, 8])"
      ]
     },
     "execution_count": 9,
     "metadata": {},
     "output_type": "execute_result"
    }
   ],
   "source": [
    "np.extract(Arr>3 , Arr)"
   ]
  },
  {
   "cell_type": "code",
   "execution_count": 10,
   "id": "04ee8573-198f-441e-bd6b-351631be9cbb",
   "metadata": {},
   "outputs": [],
   "source": [
    "a=np.copy(Arr)"
   ]
  },
  {
   "cell_type": "code",
   "execution_count": 11,
   "id": "75c40dc6-1a59-491e-8444-50e7d864527c",
   "metadata": {},
   "outputs": [
    {
     "data": {
      "text/plain": [
       "array([2, 3, 1, 5, 8, 4, 3, 9, 8])"
      ]
     },
     "execution_count": 11,
     "metadata": {},
     "output_type": "execute_result"
    }
   ],
   "source": [
    "a"
   ]
  },
  {
   "cell_type": "code",
   "execution_count": 12,
   "id": "718171e1-c333-4829-8785-f95e2ca5a06b",
   "metadata": {},
   "outputs": [],
   "source": [
    "b=Arr.view()"
   ]
  },
  {
   "cell_type": "code",
   "execution_count": 13,
   "id": "a17c02db-e2e1-47f4-baa6-b84edb6b83ee",
   "metadata": {},
   "outputs": [],
   "source": [
    "b=Arr"
   ]
  },
  {
   "cell_type": "code",
   "execution_count": 14,
   "id": "9d41de86-3f3b-4b2a-a8be-74cd0d0d07dd",
   "metadata": {},
   "outputs": [
    {
     "data": {
      "text/plain": [
       "array([2, 3, 1, 5, 8, 4, 3, 9, 8])"
      ]
     },
     "execution_count": 14,
     "metadata": {},
     "output_type": "execute_result"
    }
   ],
   "source": [
    "b"
   ]
  },
  {
   "cell_type": "code",
   "execution_count": 15,
   "id": "3c772f41-6751-4f2b-b5c1-70044eb311ed",
   "metadata": {},
   "outputs": [],
   "source": [
    "b[0]= 34"
   ]
  },
  {
   "cell_type": "code",
   "execution_count": 16,
   "id": "695f2a91-ce94-492b-bf93-6da23a1f28ee",
   "metadata": {},
   "outputs": [
    {
     "data": {
      "text/plain": [
       "array([34,  3,  1,  5,  8,  4,  3,  9,  8])"
      ]
     },
     "execution_count": 16,
     "metadata": {},
     "output_type": "execute_result"
    }
   ],
   "source": [
    "b"
   ]
  },
  {
   "cell_type": "code",
   "execution_count": 17,
   "id": "6b6e3355-17bb-4762-a8f9-545eadff5bc0",
   "metadata": {},
   "outputs": [
    {
     "data": {
      "text/plain": [
       "array([34,  3,  1,  5,  8,  4,  3,  9,  8])"
      ]
     },
     "execution_count": 17,
     "metadata": {},
     "output_type": "execute_result"
    }
   ],
   "source": [
    "Arr"
   ]
  },
  {
   "cell_type": "code",
   "execution_count": 18,
   "id": "30bd24c8-6734-450b-a70c-4142a5d51fa4",
   "metadata": {},
   "outputs": [],
   "source": [
    "import numpy.matlib as nm"
   ]
  },
  {
   "cell_type": "code",
   "execution_count": 19,
   "id": "973167e7-31dd-4701-820c-0d7c8917b73e",
   "metadata": {},
   "outputs": [
    {
     "data": {
      "text/plain": [
       "matrix([[0., 0., 0., 0., 0.]])"
      ]
     },
     "execution_count": 19,
     "metadata": {},
     "output_type": "execute_result"
    }
   ],
   "source": [
    "nm.zeros(5)"
   ]
  },
  {
   "cell_type": "code",
   "execution_count": 20,
   "id": "e8ed2fae-1cb2-401e-a612-f7028c10b3aa",
   "metadata": {},
   "outputs": [
    {
     "data": {
      "text/plain": [
       "matrix([[1., 0., 0., 0., 0.],\n",
       "        [0., 1., 0., 0., 0.],\n",
       "        [0., 0., 1., 0., 0.],\n",
       "        [0., 0., 0., 1., 0.],\n",
       "        [0., 0., 0., 0., 1.]])"
      ]
     },
     "execution_count": 20,
     "metadata": {},
     "output_type": "execute_result"
    }
   ],
   "source": [
    "nm.eye(5)"
   ]
  },
  {
   "cell_type": "code",
   "execution_count": null,
   "id": "faf6d486-0d67-4808-b0b6-6c49fa4e5f15",
   "metadata": {},
   "outputs": [],
   "source": [
    "#numpy - linear algebra"
   ]
  },
  {
   "cell_type": "code",
   "execution_count": 25,
   "id": "d66cdeb9-2d88-4739-921f-f9698b9fa9fb",
   "metadata": {},
   "outputs": [],
   "source": [
    "crr1 = np.random.randint([[2,3], [4,5]])"
   ]
  },
  {
   "cell_type": "code",
   "execution_count": 28,
   "id": "6e4e2a63-944e-490c-bd45-428e39051190",
   "metadata": {},
   "outputs": [],
   "source": [
    "crr2= np.random.randint([[5,3] , [2,5]])"
   ]
  },
  {
   "cell_type": "code",
   "execution_count": 29,
   "id": "3fdc326d-4c65-45bd-bfe3-78ca202b85a0",
   "metadata": {},
   "outputs": [
    {
     "data": {
      "text/plain": [
       "array([[1, 0],\n",
       "       [2, 1]], dtype=int32)"
      ]
     },
     "execution_count": 29,
     "metadata": {},
     "output_type": "execute_result"
    }
   ],
   "source": [
    "np.dot(crr1 , crr2)"
   ]
  }
 ],
 "metadata": {
  "kernelspec": {
   "display_name": "Python 3 (ipykernel)",
   "language": "python",
   "name": "python3"
  },
  "language_info": {
   "codemirror_mode": {
    "name": "ipython",
    "version": 3
   },
   "file_extension": ".py",
   "mimetype": "text/x-python",
   "name": "python",
   "nbconvert_exporter": "python",
   "pygments_lexer": "ipython3",
   "version": "3.13.5"
  }
 },
 "nbformat": 4,
 "nbformat_minor": 5
}
